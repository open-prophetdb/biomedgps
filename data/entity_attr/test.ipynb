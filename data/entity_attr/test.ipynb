{
 "cells": [
  {
   "cell_type": "code",
   "execution_count": 1,
   "metadata": {},
   "outputs": [
    {
     "name": "stdout",
     "output_type": "stream",
     "text": [
      "Column Name: absorption, Data Type: VARCHAR\n",
      "Column Name: affected_organisms, Data Type: VARCHAR[]\n",
      "Column Name: ahfs_codes, Data Type: INTEGER[]\n",
      "Column Name: atc_codes, Data Type: STRUCT(code VARCHAR, \"level\" STRUCT(code VARCHAR, \"text\" VARCHAR)[])[]\n",
      "Column Name: carriers, Data Type: STRUCT(actions VARCHAR[], id VARCHAR, known_action VARCHAR, \"name\" VARCHAR, organism VARCHAR, polypeptide STRUCT(amino_acid_sequence STRUCT(format VARCHAR, \"text\" VARCHAR), cellular_location VARCHAR, chromosome_location VARCHAR, external_identifiers STRUCT(identifier VARCHAR, resource VARCHAR)[], gene_name VARCHAR, gene_sequence STRUCT(format VARCHAR, \"text\" VARCHAR), general_function VARCHAR, go_classifiers STRUCT(category VARCHAR, description VARCHAR)[], id VARCHAR, locus VARCHAR, molecular_weight VARCHAR, \"name\" VARCHAR, organism STRUCT(ncbi_taxonomy_id VARCHAR, \"text\" VARCHAR), pfams STRUCT(identifier VARCHAR, \"name\" VARCHAR)[], signal_regions VARCHAR, source VARCHAR, specific_function VARCHAR, synonyms VARCHAR[], theoretical_pi VARCHAR, transmembrane_regions VARCHAR)[], \"position\" VARCHAR, \"references\" STRUCT(articles STRUCT(citation VARCHAR, pubmed_id VARCHAR, ref_id VARCHAR)[], attachments STRUCT(ref_id VARCHAR, title VARCHAR, url VARCHAR)[], links STRUCT(ref_id VARCHAR, title VARCHAR, url VARCHAR)[], textbooks STRUCT(citation VARCHAR, isbn VARCHAR, ref_id VARCHAR)[]))[]\n",
      "Column Name: cas_number, Data Type: VARCHAR\n",
      "Column Name: categories, Data Type: STRUCT(category VARCHAR, mesh_id VARCHAR)[]\n",
      "Column Name: classification, Data Type: STRUCT(\"class\" VARCHAR, description VARCHAR, direct_parent VARCHAR, kingdom VARCHAR, subclass VARCHAR, superclass VARCHAR, alternative_parent VARCHAR[], substituent VARCHAR[])\n",
      "Column Name: clearance, Data Type: VARCHAR\n",
      "Column Name: created, Data Type: VARCHAR\n",
      "Column Name: description, Data Type: VARCHAR\n",
      "Column Name: dosages, Data Type: STRUCT(form VARCHAR, route VARCHAR, strength VARCHAR)[]\n",
      "Column Name: drug_interactions, Data Type: STRUCT(description VARCHAR, drugbank_id VARCHAR, \"name\" VARCHAR)[]\n",
      "Column Name: drugbank_id, Data Type: VARCHAR[]\n",
      "Column Name: enzymes, Data Type: STRUCT(actions VARCHAR[], id VARCHAR, induction_strength VARCHAR, inhibition_strength VARCHAR, known_action VARCHAR, \"name\" VARCHAR, organism VARCHAR, polypeptide STRUCT(amino_acid_sequence STRUCT(format VARCHAR, \"text\" VARCHAR), cellular_location VARCHAR, chromosome_location VARCHAR, external_identifiers STRUCT(identifier VARCHAR, resource VARCHAR)[], gene_name VARCHAR, gene_sequence STRUCT(format VARCHAR, \"text\" VARCHAR), general_function VARCHAR, go_classifiers STRUCT(category VARCHAR, description VARCHAR)[], id VARCHAR, locus VARCHAR, molecular_weight VARCHAR, \"name\" VARCHAR, organism STRUCT(ncbi_taxonomy_id VARCHAR, \"text\" VARCHAR), pfams STRUCT(identifier VARCHAR, \"name\" VARCHAR)[], signal_regions VARCHAR, source VARCHAR, specific_function VARCHAR, synonyms VARCHAR[], theoretical_pi VARCHAR, transmembrane_regions VARCHAR)[], \"position\" VARCHAR, \"references\" STRUCT(articles STRUCT(citation VARCHAR, pubmed_id VARCHAR, ref_id VARCHAR)[], attachments STRUCT(ref_id VARCHAR, title VARCHAR, url VARCHAR)[], links STRUCT(ref_id VARCHAR, title VARCHAR, url VARCHAR)[], textbooks STRUCT(citation VARCHAR, isbn VARCHAR, ref_id VARCHAR)[]))[]\n",
      "Column Name: experimental_properties, Data Type: STRUCT(property STRUCT(kind VARCHAR, source VARCHAR, \"value\" VARCHAR)[])\n",
      "Column Name: external_identifiers, Data Type: STRUCT(identifier VARCHAR, resource VARCHAR)[]\n",
      "Column Name: external_links, Data Type: STRUCT(resource VARCHAR, url VARCHAR)[]\n",
      "Column Name: food_interactions, Data Type: VARCHAR[]\n",
      "Column Name: general_references, Data Type: STRUCT(articles STRUCT(citation VARCHAR, pubmed_id VARCHAR, ref_id VARCHAR)[], attachments STRUCT(ref_id VARCHAR, title VARCHAR, url VARCHAR)[], links STRUCT(ref_id VARCHAR, title VARCHAR, url VARCHAR)[], textbooks STRUCT(citation VARCHAR, isbn VARCHAR, ref_id VARCHAR)[])\n",
      "Column Name: groups, Data Type: VARCHAR[]\n",
      "Column Name: half_life, Data Type: VARCHAR\n",
      "Column Name: indication, Data Type: VARCHAR\n",
      "Column Name: international_brands, Data Type: STRUCT(company VARCHAR, \"name\" VARCHAR)[]\n",
      "Column Name: manufacturers, Data Type: STRUCT(generic VARCHAR, \"text\" VARCHAR, url VARCHAR)[]\n",
      "Column Name: mechanism_of_action, Data Type: VARCHAR\n",
      "Column Name: metabolism, Data Type: VARCHAR\n",
      "Column Name: mixtures, Data Type: STRUCT(ingredients VARCHAR, \"name\" VARCHAR)[]\n",
      "Column Name: name, Data Type: VARCHAR\n",
      "Column Name: packagers, Data Type: STRUCT(\"name\" VARCHAR, url VARCHAR)[]\n",
      "Column Name: patents, Data Type: STRUCT(approved VARCHAR, country VARCHAR, expires VARCHAR, number VARCHAR, pediatric_extension VARCHAR)[]\n",
      "Column Name: pathways, Data Type: STRUCT(category VARCHAR, drugs STRUCT(drugbank_id VARCHAR, \"name\" VARCHAR)[], enzymes STRUCT(uniprot_id VARCHAR[]), \"name\" VARCHAR, smpdb_id VARCHAR)[]\n",
      "Column Name: pdb_entries, Data Type: STRUCT(pdb_entry VARCHAR[])\n",
      "Column Name: pharmacodynamics, Data Type: VARCHAR\n",
      "Column Name: prices, Data Type: STRUCT(\"cost\" STRUCT(currency VARCHAR, \"text\" VARCHAR), description VARCHAR, unit VARCHAR)[]\n",
      "Column Name: products, Data Type: STRUCT(approved VARCHAR, country VARCHAR, dosage_form VARCHAR, dpd_id VARCHAR, ema_ma_number VARCHAR, ema_product_code VARCHAR, ended_marketing_on VARCHAR, fda_application_number VARCHAR, generic VARCHAR, labeller VARCHAR, \"name\" VARCHAR, ndc_id VARCHAR, ndc_product_code VARCHAR, over_the_counter VARCHAR, route VARCHAR, source VARCHAR, started_marketing_on VARCHAR, strength VARCHAR)[]\n",
      "Column Name: protein_binding, Data Type: VARCHAR\n",
      "Column Name: reactions, Data Type: STRUCT(enzymes STRUCT(drugbank_id VARCHAR, \"name\" VARCHAR, uniprot_id VARCHAR)[], left_element STRUCT(drugbank_id VARCHAR, \"name\" VARCHAR), right_element STRUCT(drugbank_id VARCHAR, \"name\" VARCHAR), \"sequence\" VARCHAR)[]\n",
      "Column Name: route_of_elimination, Data Type: VARCHAR\n",
      "Column Name: salts, Data Type: STRUCT(average_mass VARCHAR, cas_number VARCHAR, drugbank_id VARCHAR, inchikey VARCHAR, monoisotopic_mass VARCHAR, \"name\" VARCHAR, unii VARCHAR)[]\n",
      "Column Name: sequences, Data Type: STRUCT(format VARCHAR, \"text\" VARCHAR)[]\n",
      "Column Name: snp_adverse_drug_reactions, Data Type: STRUCT(reaction STRUCT(adverse_reaction VARCHAR, allele VARCHAR, description VARCHAR, gene_symbol VARCHAR, protein_name VARCHAR, pubmed_id VARCHAR, rs_id VARCHAR, uniprot_id VARCHAR)[])\n",
      "Column Name: snp_effects, Data Type: STRUCT(effect STRUCT(allele VARCHAR, defining_change VARCHAR, description VARCHAR, gene_symbol VARCHAR, protein_name VARCHAR, pubmed_id VARCHAR, rs_id VARCHAR, uniprot_id VARCHAR)[])\n",
      "Column Name: state, Data Type: VARCHAR\n",
      "Column Name: synonyms, Data Type: VARCHAR[]\n",
      "Column Name: synthesis_reference, Data Type: VARCHAR\n",
      "Column Name: targets, Data Type: STRUCT(actions VARCHAR[], id VARCHAR, known_action VARCHAR, \"name\" VARCHAR, organism VARCHAR, polypeptide STRUCT(amino_acid_sequence STRUCT(format VARCHAR, \"text\" VARCHAR), cellular_location VARCHAR, chromosome_location VARCHAR, external_identifiers STRUCT(identifier VARCHAR, resource VARCHAR)[], gene_name VARCHAR, gene_sequence STRUCT(format VARCHAR, \"text\" VARCHAR), general_function VARCHAR, go_classifiers STRUCT(category VARCHAR, description VARCHAR)[], id VARCHAR, locus VARCHAR, molecular_weight VARCHAR, \"name\" VARCHAR, organism STRUCT(ncbi_taxonomy_id VARCHAR, \"text\" VARCHAR), pfams STRUCT(identifier VARCHAR, \"name\" VARCHAR)[], signal_regions VARCHAR, source VARCHAR, specific_function VARCHAR, synonyms VARCHAR[], theoretical_pi VARCHAR, transmembrane_regions VARCHAR)[], \"position\" VARCHAR, \"references\" STRUCT(articles STRUCT(citation VARCHAR, pubmed_id VARCHAR, ref_id VARCHAR)[], attachments STRUCT(ref_id VARCHAR, title VARCHAR, url VARCHAR)[], links STRUCT(ref_id VARCHAR, title VARCHAR, url VARCHAR)[], textbooks STRUCT(citation VARCHAR, isbn VARCHAR, ref_id VARCHAR)[]))[]\n",
      "Column Name: toxicity, Data Type: VARCHAR\n",
      "Column Name: transporters, Data Type: STRUCT(actions VARCHAR[], id VARCHAR, known_action VARCHAR, \"name\" VARCHAR, organism VARCHAR, polypeptide STRUCT(amino_acid_sequence STRUCT(format VARCHAR, \"text\" VARCHAR), cellular_location VARCHAR, chromosome_location VARCHAR, external_identifiers STRUCT(identifier VARCHAR, resource VARCHAR)[], gene_name VARCHAR, gene_sequence STRUCT(format VARCHAR, \"text\" VARCHAR), general_function VARCHAR, go_classifiers STRUCT(category VARCHAR, description VARCHAR)[], id VARCHAR, locus VARCHAR, molecular_weight VARCHAR, \"name\" VARCHAR, organism STRUCT(ncbi_taxonomy_id VARCHAR, \"text\" VARCHAR), pfams STRUCT(identifier VARCHAR, \"name\" VARCHAR)[], signal_regions VARCHAR, source VARCHAR, specific_function VARCHAR, synonyms VARCHAR[], theoretical_pi VARCHAR, transmembrane_regions VARCHAR)[], \"position\" VARCHAR, \"references\" STRUCT(articles STRUCT(citation VARCHAR, pubmed_id VARCHAR, ref_id VARCHAR)[], attachments STRUCT(ref_id VARCHAR, title VARCHAR, url VARCHAR)[], links STRUCT(ref_id VARCHAR, title VARCHAR, url VARCHAR)[], textbooks STRUCT(citation VARCHAR, isbn VARCHAR, ref_id VARCHAR)[]))[]\n",
      "Column Name: type, Data Type: VARCHAR\n",
      "Column Name: unii, Data Type: VARCHAR\n",
      "Column Name: updated, Data Type: VARCHAR\n",
      "Column Name: volume_of_distribution, Data Type: VARCHAR\n",
      "Column Name: fda_label, Data Type: VARCHAR\n",
      "Column Name: msds, Data Type: VARCHAR\n",
      "Column Name: average_mass, Data Type: VARCHAR\n",
      "Column Name: calculated_properties, Data Type: STRUCT(property STRUCT(kind VARCHAR, source VARCHAR, \"value\" VARCHAR)[])\n",
      "Column Name: monoisotopic_mass, Data Type: VARCHAR\n"
     ]
    }
   ],
   "source": [
    "import duckdb\n",
    "\n",
    "parquet_file = \"drugbank_5.1_2024-01-03.parquet\"\n",
    "\n",
    "conn = duckdb.connect(database=\":memory:\", read_only=False)\n",
    "conn.execute(f\"CREATE VIEW my_parquet_view AS SELECT * FROM '{parquet_file}'\")\n",
    "schema_result = conn.execute(\"DESCRIBE my_parquet_view\").fetchall()\n",
    "\n",
    "for column in schema_result:\n",
    "    print(f\"Column Name: {column[0]}, Data Type: {column[1]}\")"
   ]
  },
  {
   "cell_type": "code",
   "execution_count": 20,
   "metadata": {},
   "outputs": [],
   "source": [
    "import pandas as pd\n",
    "\n",
    "conn = duckdb.connect(database=\":memory:\", read_only=False)\n",
    "conn.execute(f\"CREATE VIEW my_parquet_view AS SELECT * FROM '{parquet_file}'\")\n",
    "query_result = conn.query(\n",
    "    \"SELECT drugbank_id[1] AS drugbank_id, description, name, mechanism_of_action, patents FROM my_parquet_view WHERE drugbank_id[1] in ('MESH:C069594', 'DB00118', 'DB00802', 'DB01435', 'MESH:D001647', 'DB09102', 'DB13802', 'MESH:C032881', 'DB00603', 'DB08834', 'DB01586', 'MESH:D014810', 'DB06210', 'DB00175', 'DB00305', 'DB01174', 'MESH:D003520', 'DB00531', 'DB00945', 'DB01005', 'DB01254', 'DB01109')\"\n",
    ")\n",
    "\n",
    "df = query_result.df()\n",
    "df_exploded = df.explode('patents')\n",
    "df_exploded[\"patents\"] = df_exploded[\"patents\"].apply(\n",
    "    lambda x: x if isinstance(x, dict) else {}\n",
    ")\n",
    "df_flattened = df_exploded.join(df_exploded['patents'].apply(pd.Series))\n",
    "df_flattened = df_flattened.drop('patents', axis=1)\n",
    "df_flattened = df_flattened.fillna(\"\")\n",
    "df_flattened = df_flattened.drop_duplicates()\n",
    "\n",
    "df_flattened.to_excel(\"selected.xlsx\", index=False)"
   ]
  },
  {
   "cell_type": "code",
   "execution_count": 11,
   "metadata": {},
   "outputs": [
    {
     "data": {
      "application/vnd.jupyter.widget-view+json": {
       "model_id": "fae5e638c1844fdb9205f64b92d245e7",
       "version_major": 2,
       "version_minor": 0
      },
      "text/plain": [
       "FloatProgress(value=0.0, layout=Layout(width='auto'), style=ProgressStyle(bar_color='black'))"
      ]
     },
     "metadata": {},
     "output_type": "display_data"
    }
   ],
   "source": [
    "conn = duckdb.connect(database=\":memory:\", read_only=False)\n",
    "parquet_file = 'https://drugs.3steps.cn/drugbank_5.1_2024-01-03.parquet'\n",
    "conn.execute(f\"CREATE VIEW my_parquet_view AS SELECT * FROM '{parquet_file}'\")\n",
    "query_result = conn.query(\n",
    "    \"SELECT drugbank_id[1], description, name, mechanism_of_action FROM my_parquet_view LIMIT 10\"\n",
    ")\n",
    "\n",
    "query_result.df()"
   ]
  }
 ],
 "metadata": {
  "kernelspec": {
   "display_name": "network-medicine",
   "language": "python",
   "name": "python3"
  },
  "language_info": {
   "codemirror_mode": {
    "name": "ipython",
    "version": 3
   },
   "file_extension": ".py",
   "mimetype": "text/x-python",
   "name": "python",
   "nbconvert_exporter": "python",
   "pygments_lexer": "ipython3",
   "version": "3.10.9"
  }
 },
 "nbformat": 4,
 "nbformat_minor": 2
}
