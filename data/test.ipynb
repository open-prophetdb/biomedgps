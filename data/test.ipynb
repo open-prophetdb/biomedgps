{
 "cells": [
  {
   "cell_type": "code",
   "execution_count": 6,
   "metadata": {},
   "outputs": [],
   "source": [
    "def set_default_if_empty(nested_dict, path, default):\n",
    "    \"\"\"\n",
    "    Sets a default value in a nested dictionary based on a given path if the final key is not set or empty.\n",
    "    \n",
    "    :param nested_dict: The nested dictionary to modify.\n",
    "    :param path: A list of keys representing the path to the target value.\n",
    "    :param default: The default value to set if the target is not set or empty.\n",
    "    \"\"\"\n",
    "    print(\"Set default if empty: \", path, default)\n",
    "    if isinstance(nested_dict, list):\n",
    "        return [set_default_if_empty(item, path[1:], default) for item in nested_dict]\n",
    "    \n",
    "    if isinstance(nested_dict, dict):\n",
    "        # Navigate through the nested dictionary along the path, except for the last key\n",
    "        current_level = nested_dict\n",
    "\n",
    "        for key in path[:-1]:\n",
    "            print(\"Key: \", key, \"Isinstance: \", isinstance(current_level[key], list))\n",
    "            if key in current_level:\n",
    "                if current_level[key] is None or current_level[key] == \"\":\n",
    "                    return current_level\n",
    "                elif isinstance(current_level[key], list):\n",
    "                    current_level[key] = [set_default_if_empty(item, path[1:], default) for item in current_level[key]]\n",
    "                elif isinstance(current_level[key], dict):\n",
    "                    current_level[key] = set_default_if_empty(current_level[key], path[1:], default)\n",
    "\n",
    "        final_key = path[-1]\n",
    "        if final_key in current_level and current_level[final_key] is not None:\n",
    "            if (isinstance(current_level[final_key], str) or \n",
    "                isinstance(current_level[final_key], dict)) and isinstance(default, list):\n",
    "                print(\"C: \", current_level[final_key])\n",
    "                current_level[final_key] = [current_level[final_key]]\n",
    "\n",
    "        return current_level"
   ]
  },
  {
   "cell_type": "code",
   "execution_count": 12,
   "metadata": {},
   "outputs": [],
   "source": [
    "import json\n",
    "from collections import defaultdict\n",
    "\n",
    "def check_types(data, parent_key='', path_types=defaultdict(list)):\n",
    "    if isinstance(data, dict):\n",
    "        for key, value in data.items():\n",
    "            if isinstance(value, (dict, list)):\n",
    "                check_types(value, f\"{parent_key}.{key}\" if parent_key else key, path_types)\n",
    "            else:\n",
    "                path_types[f\"{parent_key}.{key}\" if parent_key else key].append(type(value).__name__)\n",
    "    elif isinstance(data, list):\n",
    "        for i, item in enumerate(data):\n",
    "            check_types(item, f\"{parent_key}[{i}]\" if parent_key else str(i), path_types)\n",
    "    else:\n",
    "        path_types[parent_key].append(type(data).__name__)\n",
    "\n",
    "    return path_types\n",
    "\n",
    "def find_inconsistencies(path_types):\n",
    "    inconsistencies = {}\n",
    "    for path, types in path_types.items():\n",
    "        if len(set(types)) > 1:  # More than one unique type for the path\n",
    "            inconsistencies[path] = set(types)\n",
    "    return inconsistencies"
   ]
  },
  {
   "cell_type": "code",
   "execution_count": 13,
   "metadata": {},
   "outputs": [
    {
     "name": "stdout",
     "output_type": "stream",
     "text": [
      "No inconsistencies found in the data types.\n"
     ]
    }
   ],
   "source": [
    "import json\n",
    "\n",
    "data = json.load(open(\"/Users/jy006/Documents/Code/BioMedGPS/biomedgps/data/drugbank_5.1_2024-01-03.json\"))\n",
    "\n",
    "path_types = check_types(data)\n",
    "inconsistencies = find_inconsistencies(path_types)\n",
    "if inconsistencies:\n",
    "    print(\"Found inconsistencies in the data types:\")\n",
    "    for path, types in inconsistencies.items():\n",
    "        print(f\"Path: {path}, Types: {types}\")\n",
    "else:\n",
    "    print(\"No inconsistencies found in the data types.\")"
   ]
  }
 ],
 "metadata": {
  "kernelspec": {
   "display_name": "network-medicine",
   "language": "python",
   "name": "python3"
  },
  "language_info": {
   "codemirror_mode": {
    "name": "ipython",
    "version": 3
   },
   "file_extension": ".py",
   "mimetype": "text/x-python",
   "name": "python",
   "nbconvert_exporter": "python",
   "pygments_lexer": "ipython3",
   "version": "3.10.8"
  }
 },
 "nbformat": 4,
 "nbformat_minor": 2
}
